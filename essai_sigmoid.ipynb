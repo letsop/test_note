{
 "cells": [
  {
   "cell_type": "markdown",
   "metadata": {},
   "source": [
    "\n",
    "# Essai de parametrisation sigmoid\n",
    "\n",
    "\n"
   ]
  },
  {
   "cell_type": "code",
   "execution_count": 1,
   "metadata": {},
   "outputs": [],
   "source": [
    "import numpy as np\n",
    "import matplotlib.pyplot as plt\n",
    "from matplotlib.widgets import Slider, Button, RadioButtons\n",
    "from matplotlib import interactive\n",
    "import math\n",
    "%matplotlib notebook"
   ]
  },
  {
   "cell_type": "code",
   "execution_count": 2,
   "metadata": {},
   "outputs": [],
   "source": [
    "def sigmoid(t,a,b,c,d=None):\n",
    "    \"\"\" return the value of sigmoid for t \"\"\"\n",
    "    # t, time\n",
    "    # a,b,c,d sigmoid parameters\n",
    "    if d==None:\n",
    "        d=0.\n",
    "    return a+(d-a)/(1.+math.exp(-b*(t-c)))\n",
    "\n",
    "def sigabcd(t,a,b,c,d):\n",
    "    return np.array([sigmoid(ti,a,b,c,d) for ti in t])\n",
    "\n",
    "def fap(t,kap,tp,sp,tm,sm):\n",
    "    return kap*(1.-sigmoid(t,1.,sp,tp,0.))*sigmoid(t,1.,sm,tm,0.)\n",
    "\n",
    "def fapt(t,kap,tp,sp,tm,sm):\n",
    "    return np.array([fap(ti,kap,tp,sp,tm,sm) for ti in t])"
   ]
  },
  {
   "cell_type": "code",
   "execution_count": 3,
   "metadata": {},
   "outputs": [
    {
     "data": {
      "image/png": "[encoded data removed]",
      "text/plain": [
       "<matplotlib.figure.Figure at 0x7ff524694f60>"
      ]
     },
     "metadata": {},
     "output_type": "display_data"
    }
   ],
   "source": [
    "Tmax=20\n",
    "Tmin=10\n",
    "t = np.arange(Tmin, Tmax, 1)\n",
    "kap=10.\n",
    "tp=12.\n",
    "sp=1\n",
    "tm=16.\n",
    "sm=1\n",
    "s = fapt(t,kap,tp,sp,tm,sm)\n",
    "plt.plot(t,s)\n",
    "plt.show()"
   ]
  },
  {
   "cell_type": "code",
   "execution_count": 4,
   "metadata": {},
   "outputs": [
    {
     "data": {
      "application/vnd.jupyter.widget-view+json": {
       "model_id": "e189ce8163024c3298c6be6e73a192a6",
       "version_major": 2,
       "version_minor": 0
      },
      "text/html": [
       "<p>Failed to display Jupyter Widget of type <code>interactive</code>.</p>\n",
       "<p>\n",
       "  If you're reading this message in the Jupyter Notebook or JupyterLab Notebook, it may mean\n",
       "  that the widgets JavaScript is still loading. If this message persists, it\n",
       "  likely means that the widgets JavaScript library is either not installed or\n",
       "  not enabled. See the <a href=\"https://ipywidgets.readthedocs.io/en/stable/user_install.html\">Jupyter\n",
       "  Widgets Documentation</a> for setup instructions.\n",
       "</p>\n",
       "<p>\n",
       "  If you're reading this message in another frontend (for example, a static\n",
       "  rendering on GitHub or <a href=\"https://nbviewer.jupyter.org/\">NBViewer</a>),\n",
       "  it may mean that your frontend doesn't currently support widgets.\n",
       "</p>\n"
      ],
      "text/plain": [
       "interactive(children=(FloatSlider(value=1.0, description='a0', max=1.0), FloatSlider(value=2.0, description='b0', max=10.0, step=0.5), FloatSlider(value=14.0, description='c0', max=20.0, min=10.0, step=0.5), FloatSlider(value=0.0, description='d0', max=1.0), Output()), _dom_classes=('widget-interact',))"
      ]
     },
     "metadata": {},
     "output_type": "display_data"
    },
    {
     "data": {
      "text/plain": [
       "<function __main__.plot>"
      ]
     },
     "execution_count": 4,
     "metadata": {},
     "output_type": "execute_result"
    }
   ],
   "source": [
    "from ipywidgets import interact,FloatSlider\n",
    "\n",
    "def plot(a0, b0, c0, d0):\n",
    "    fig, ax = plt.subplots()\n",
    "    plt.subplots_adjust(left=0.25, bottom=0.35)\n",
    "    Tmax=20\n",
    "    Tmin=10\n",
    "    t = np.arange(Tmin, Tmax, 0.1)\n",
    " \n",
    "    s = sigabcd(t,a0,b0,c0,d0)\n",
    "    l, = plt.plot(t, s, lw=2, color='red')\n",
    "    plt.axis([Tmin, Tmax, a0, d0])\n",
    "\n",
    "    axcolor = 'lightgoldenrodyellow'\n",
    "\n",
    "    plt.show()\n",
    "\n",
    "a0 = FloatSlider(min=0,max=1,step=0.1,value=1.)\n",
    "b0 = FloatSlider(min=0,max=10,step=0.5,value=2.)\n",
    "c0 = FloatSlider(min=10,max=20,step=0.5,value=14.)\n",
    "d0 = FloatSlider(min=0,max=1,step=0.1,value=0.)\n",
    "\n",
    "interact(plot,a0=a0,b0=b0,c0=c0,d0=d0)"
   ]
  },
  {
   "cell_type": "code",
   "execution_count": null,
   "metadata": {
    "collapsed": true
   },
   "outputs": [],
   "source": []
  },
  {
   "cell_type": "code",
   "execution_count": null,
   "metadata": {
    "collapsed": true
   },
   "outputs": [],
   "source": []
  }
 ],
 "metadata": {
  "kernelspec": {
   "display_name": "Python 3",
   "language": "python",
   "name": "python3"
  },
  "language_info": {
   "codemirror_mode": {
    "name": "ipython",
    "version": 3
   },
   "file_extension": ".py",
   "mimetype": "text/x-python",
   "name": "python",
   "nbconvert_exporter": "python",
   "pygments_lexer": "ipython3",
   "version": "3.6.4"
  }
 },
 "nbformat": 4,
 "nbformat_minor": 2
}
