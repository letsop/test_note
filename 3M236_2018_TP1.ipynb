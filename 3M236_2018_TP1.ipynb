{
 "cells": [
  {
   "cell_type": "markdown",
   "metadata": {},
   "source": [
    "# TP 1 : Introduction à Python en passant par les EDO"
   ]
  },
  {
   "cell_type": "markdown",
   "metadata": {},
   "source": [
    "L'objectif du TP est de vous apprendre ou rappeler les rudiments du langage python indispensable pour illustrer le cours de \"méthodes numériques pour les EDO\". Vous pouvez vous référer au matériel pédagogique dans l'UE Moodle 3M100 ou bien directement aux ressources internet, en sélectionnant les sites \"officiels\" plutôt que les forums.\n"
   ]
  },
  {
   "cell_type": "markdown",
   "metadata": {},
   "source": [
    "Plutôt que de repartir de 0 nous allons nous concentrer sur les outils dont nous avons besoin pour :\n",
    "<ol>\n",
    "<li> Définir une fonction python \n",
    "<li> Définir des tableaux de nombres contenant les solutions des ODE  (librairie numpy)\n",
    "<li> Afficher ces solutions graphiquement (graphes et portraits de phase) (librairie matplotlib)\n",
    "<li> Faire des opérations d'algèbre linéaire sur des matrices et des vecteurs (librairie scipy.linalg)\n",
    "<li> Calculer des approximations numériques de la solution d'une ODE (librairie scipy.integrate)\n",
    "</ol>"
   ]
  },
  {
   "cell_type": "code",
   "execution_count": 10,
   "metadata": {},
   "outputs": [],
   "source": [
    "import numpy as np # donne acces a la librairie numpy, et definit l'abbreviation np\n",
    "import scipy        # donne acces aux librairies scipy, scipy.linalg et scipy.integrate\n",
    "import scipy.linalg\n",
    "import scipy.integrate\n",
    "import matplotlib.pyplot as plt # donne acces a la librairie matplotlib.pyplot, et definit l'abbreviation plt\n",
    "import math     # donne acces aux fonctions et constantes mathematiques\n",
    "%matplotlib inline    \n",
    "# ouvre les fenetres graphiques dans le notebook\n"
   ]
  },
  {
   "cell_type": "markdown",
   "metadata": {},
   "source": [
    "## Exercice 1.  L'oscillateur harmonique simple"
   ]
  },
  {
   "cell_type": "markdown",
   "metadata": {},
   "source": [
    "Soit $\\omega_0 > 0$. Commençons avec $\\omega_0= 1$. On considère l’équation différentielle de l’oscillateur harmonique :\n",
    "$$x''(t) + \\omega_0^2 x(t) = 0$$\n",
    "muni des conditions initiales\n",
    "$$\\left\\{\\begin{array}{l}\n",
    "x(0) = x_0\\\\\n",
    "x'(0) = v_0\n",
    "\\end{array}\\right.$$\n",
    "Cette équation est fondamentale. Elle est à la base de la modélisation de nombreux phénomènes physiques\n",
    "<ol><Li>\n",
    "en mécanique : $x(t)$ est le déplacement d’une masse m suspendue à un ressort de constante de raideur\n",
    "$k$ tel que $\\omega_0^2=k/m$\n",
    "<li> $x(t)$ peut aussi mesurer les petites oscillations (en radians, autour de la position\n",
    "d’équilibre stable verticale) d’un pendule de longueur $L$, avec $\\omega_0 =\n",
    "\\sqrt{g/L}$\n",
    "avec  $g$ la constante de\n",
    "pesanteur.\n",
    "<li> en électronique : $x(t)$ est la charge aux bornes d’un condensateur de capacité $C$ qui se décharge dans\n",
    "une bobine d’inductance $L$ avec $\\omega_0=1/\\sqrt{LC}$.</ol>\n"
   ]
  },
  {
   "cell_type": "markdown",
   "metadata": {},
   "source": [
    "### Question 1 Définir une fonction"
   ]
  },
  {
   "cell_type": "markdown",
   "metadata": {},
   "source": [
    "Voici ci-dessous une exemple de fonction en Python"
   ]
  },
  {
   "cell_type": "code",
   "execution_count": 11,
   "metadata": {},
   "outputs": [
    {
     "name": "stdout",
     "output_type": "stream",
     "text": [
      "exemple( 3 )= 4\n"
     ]
    }
   ],
   "source": [
    "def exemple(x):\n",
    "# le caractere # indique que ce qui suit est un commentaire\n",
    "# En python une fonction comprend une premiere ligne declarative avec le nom de la fonction (ici \"exemple\") suivi des arguments entre parenthèses, terminée par \":\"\"\" \n",
    "# à l'interieur d'un bloc fonction, toutes les commandes doivent etre indentees.\n",
    "    y=x+1   # Cette fonction va programmer en python y=f(x)=x+1 \n",
    "    return y  # le mot reserve \"return\" permet de communiquer les resultats de la fonction a l'exterieur du bloc \n",
    "#Maintenant on va utiliser la fonction. On arrete l'indentation\n",
    "t=3\n",
    "z=exemple(t)\n",
    "print (\"exemple(\",t,')=',z)"
   ]
  },
  {
   "cell_type": "markdown",
   "metadata": {},
   "source": [
    "On a vu en cours et en TD qu'on peut trouver $a$ et $b$, tels que la fonction $x(t)=a \\cos( \\omega_0 t ) + b \\sin(\\omega_0 t)$ soit solution du problème ci-dessus \n",
    "$$ a= x_0\\quad b= v_0/\\omega_0$$\n",
    "Ecrire  une fonction \"oscille\", qui prend en entrée les valeurs initiales, la valeur de $\\omega_0$, et un temps $t$ et qui calcule la solution. Testez-la avec $x_0 = 2$ et $v_0 = 3$. "
   ]
  },
  {
   "cell_type": "code",
   "execution_count": 12,
   "metadata": {},
   "outputs": [
    {
     "name": "stdout",
     "output_type": "stream",
     "text": [
      "À vous de jouer ci-dessous pour répondre à la question 1\n"
     ]
    }
   ],
   "source": [
    "print (\"À vous de jouer ci-dessous pour répondre à la question 1\")"
   ]
  },
  {
   "cell_type": "code",
   "execution_count": 13,
   "metadata": {},
   "outputs": [
    {
     "name": "stdout",
     "output_type": "stream",
     "text": [
      "3.605017566159969\n"
     ]
    }
   ],
   "source": [
    "def oscille(x0,v0,w0,t):\n",
    "    return x0*math.cos(w0*t)+v0*math.sin(w0*t)/w0\n",
    "x0=2\n",
    "v0=3\n",
    "w0=1\n",
    "t=1\n",
    "print(oscille(x0,v0,w0,t))"
   ]
  },
  {
   "cell_type": "markdown",
   "metadata": {},
   "source": [
    "### Question 2 - Discrétiser un intervalle "
   ]
  },
  {
   "cell_type": "markdown",
   "metadata": {},
   "source": [
    "##### On veut maintenant calculer les valeurs de la solution sur un intervalle donné, en discrétisant cet intervalle suffisamment finement pour que l'affichage graphique des valeurs de la fonction aux points discrétisé ait un aspect \"continu\". Plusieurs façons de dicrétiser un intervalle sont possibles en python. En voici trois (il y en a d'autres) :"
   ]
  },
  {
   "cell_type": "code",
   "execution_count": 14,
   "metadata": {},
   "outputs": [
    {
     "name": "stdout",
     "output_type": "stream",
     "text": [
      "[1.0, 1.1, 1.2, 1.3, 1.4, 1.5, 1.6, 1.7, 1.8, 1.9]\n",
      "[1.  1.1 1.2 1.3 1.4 1.5 1.6 1.7 1.8 1.9]\n",
      "[1.         1.11111111 1.22222222 1.33333333 1.44444444 1.55555556\n",
      " 1.66666667 1.77777778 1.88888889 2.        ]\n"
     ]
    }
   ],
   "source": [
    "absc0 = [1+ float(k)/10  for k in  range (10)]    \n",
    "print (absc0)\n",
    "absc1 = np.arange (1,2,0.1)\n",
    "print (absc1)\n",
    "absc2 = np.linspace (1,2,10)\n",
    "print (absc2)"
   ]
  },
  {
   "cell_type": "markdown",
   "metadata": {},
   "source": [
    "Assurez-vous que vous comprenez bien les trois méthodes. Que font les instructions \"range\", \"np.arange\" , \"np.linspace\" ? Que se passe-t-il si on n'utilise pas \"float\" pour définir absc0 ?\n"
   ]
  },
  {
   "cell_type": "markdown",
   "metadata": {},
   "source": [
    "Votre réponse : "
   ]
  },
  {
   "cell_type": "markdown",
   "metadata": {},
   "source": [
    "Ecrire une fonction $oscillateur(t_,x_0,v_0,\\omega_0)$ qui calcule deux tableaux $x(t)$ et\n",
    "$v(t)$, où $v(t)=x'(t)$, à partir des conditions initiales et d’un tableau de valeurs de temps $t = (t_i)_{i=1,\\ldots,n}$. Tester pour\n",
    "$t_k=6k\\pi/(\\omega_0 n)$, avec $n=10$ puis $n=100$."
   ]
  },
  {
   "cell_type": "code",
   "execution_count": 15,
   "metadata": {},
   "outputs": [
    {
     "name": "stdout",
     "output_type": "stream",
     "text": [
      "a vous de jouer ci-dessous pour repondre a la question 2\n"
     ]
    }
   ],
   "source": [
    "print (\"a vous de jouer ci-dessous pour repondre a la question 2\")"
   ]
  },
  {
   "cell_type": "markdown",
   "metadata": {},
   "source": [
    "### Question 3 - Tracer une courbe\n"
   ]
  },
  {
   "cell_type": "markdown",
   "metadata": {},
   "source": [
    "\"Tracer une courbe\" sur un ordinateur, c'est-à-dire par exemple le graphe d'une fonction $y=x(t)$, c'est en fait une succession d'opérations\n",
    "<UL> <li> Définir l'intervalle $[t_0,T]$ sur lequel on veut calculer la fonction\n",
    "<li> Choisir une discrétisation suffisamment fine de cet intervalle et calculer les valeurs de la fonction en ces points (voir exercice 2)\n",
    "<lI> Tracer la ligne brisée reliant les points $(t_i,x(t_i))_{i=1,\\ldots,N}$ avec la fonction plot de la librairie graphique matplotlib\n",
    "<li> Rajouter une légende, le nom des axes, etc, tout ce qui peut rendre la figure compréhensible donc intéressante\n",
    "</UL>\n",
    "Un exemple où on trace la fonction $y=sin(t)$ pour $t\\in[0,\\pi]$ en utilisant la discrétisation absc2"
   ]
  },
  {
   "cell_type": "code",
   "execution_count": 16,
   "metadata": {},
   "outputs": [
    {
     "data": {
      "image/png": "[encoded data removed]",
      "text/plain": [
       "<Figure size 432x288 with 1 Axes>"
      ]
     },
     "metadata": {},
     "output_type": "display_data"
    }
   ],
   "source": [
    "absc2 = np.linspace (0,math.pi,20)\n",
    "ord2=np.sin(absc2)\n",
    "plt.plot(absc2,ord2)               #trace la courbe\n",
    "plt.title('graphe de y=sin(t)')    # affiche un titre\n",
    "plt.legend(['sin'])                # affiche une legende (indispensable s'il y a plusieurs courbes sur le même graphique)\n",
    "plt.xlabel('t')                    # affiche les labels d'axes\n",
    "plt.ylabel('sin(t)')\n",
    "plt.show()                         # fait apparaitre la figure\n"
   ]
  },
  {
   "cell_type": "code",
   "execution_count": 17,
   "metadata": {},
   "outputs": [
    {
     "data": {
      "image/png": "[encoded data removed]",
      "text/plain": [
       "<Figure size 432x288 with 1 Axes>"
      ]
     },
     "metadata": {},
     "output_type": "display_data"
    }
   ],
   "source": [
    "# on veut rajouter une autre courbe:\n",
    "ord3=np.cos(absc2)\n",
    "plt.plot(absc2,ord2,absc2,ord3)               #trace la courbe\n",
    "plt.title('graphe de y=sin(t) et cos(t)')    # affiche un titre\n",
    "plt.legend(['sin','cos'])                # affiche une legende (indispensable s'il y a plusieurs courbes sur le même graphique)\n",
    "plt.xlabel('t')                    # affiche les labels d'axes\n",
    "plt.ylabel('f(t)')\n",
    "plt.show()                         # fait apparaitre la figure\n",
    "\n"
   ]
  },
  {
   "cell_type": "code",
   "execution_count": 18,
   "metadata": {},
   "outputs": [
    {
     "data": {
      "image/png": "[encoded data removed]",
      "text/plain": [
       "<Figure size 432x288 with 1 Axes>"
      ]
     },
     "metadata": {},
     "output_type": "display_data"
    }
   ],
   "source": [
    "plt.plot(absc2,ord2,label=\"sin\")               #trace la courbe\n",
    "# c'est possible de ne pas tracer les deux courbes dans la meme commande\n",
    "plt.plot(absc2,ord3,label=\"cos\")               #trace la courbe\n",
    "plt.title('graphe de y=sin(t) et cos(t)')    # affiche un titre\n",
    "plt.legend()                # affiche une legende (indispensable s'il y a plusieurs courbes sur le même graphique)\n",
    "plt.xlabel('t')                    # affiche les labels d'axes\n",
    "plt.ylabel('f(t)')\n",
    "plt.show()                         # fait apparaitre la figure\n"
   ]
  },
  {
   "cell_type": "markdown",
   "metadata": {},
   "source": [
    "Tracer sur le même graphique $x(t)$ et $v(t)$ en fonction de $t\\in[0,T]$ et sur un autre graphique la trajectoire $(x(t),v(t))$ pour $t\\in[0,T]$.\n",
    "On choisira $n$ suffisamment grand pour que les courbes  aient un aspect \"continu\".\n"
   ]
  },
  {
   "cell_type": "code",
   "execution_count": 19,
   "metadata": {},
   "outputs": [],
   "source": [
    "#A vous de jouer ci-dessous :"
   ]
  },
  {
   "cell_type": "markdown",
   "metadata": {},
   "source": [
    "Testez en affichant les trajectoires pour différentes valeurs de x0, et v0 sur le même graphique.\n"
   ]
  }
 ],
 "metadata": {
  "anaconda-cloud": {},
  "kernelspec": {
   "display_name": "Python 3",
   "language": "python",
   "name": "python3"
  },
  "language_info": {
   "codemirror_mode": {
    "name": "ipython",
    "version": 3
   },
   "file_extension": ".py",
   "mimetype": "text/x-python",
   "name": "python",
   "nbconvert_exporter": "python",
   "pygments_lexer": "ipython3",
   "version": "3.5.2"
  }
 },
 "nbformat": 4,
 "nbformat_minor": 1
}
